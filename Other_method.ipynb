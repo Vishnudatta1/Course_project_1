{
 "cells": [
  {
   "cell_type": "code",
   "execution_count": 1,
   "id": "f0f07de9",
   "metadata": {},
   "outputs": [],
   "source": [
    "from os import listdir\n",
    "import numpy as np\n",
    "import pandas as pd"
   ]
  },
  {
   "cell_type": "code",
   "execution_count": 2,
   "id": "3015133b",
   "metadata": {},
   "outputs": [],
   "source": [
    "trainf=list()\n",
    "trainfe=list()\n",
    "validf=list()\n",
    "validfe=list()\n",
    "for filename in listdir('Train\\X'):\n",
    "  trainf.append(filename)\n",
    "for filename in listdir('Train\\Y'):\n",
    "  trainfe.append(filename)\n",
    "for filename in listdir('Validation\\X'):\n",
    "  validf.append(filename)\n",
    "for filename in listdir('Validation\\Y'):\n",
    "  validfe.append(filename)\n",
    "trainf.sort()\n",
    "trainfe.sort()\n",
    "validf.sort()\n",
    "validfe.sort()\n",
    "#len(validf)\n",
    "for i in range(len(trainf)):\n",
    "  trainf[i] = 'Train\\X'+'/'+ trainf[i]\n",
    "for i in range(len(trainfe)):\n",
    "  trainfe[i] = 'Train\\Y'+'/'+ trainfe[i]\n",
    "for i in range(len(validf)):\n",
    "  validf[i] = 'Validation\\X'+'/'+ validf[i]\n",
    "for i in range(len(validfe)):\n",
    "  validfe[i] = 'Validation\\Y'+'/'+ validfe[i]\n",
    "tf=len(trainf)\n",
    "vf=len(validf)\n",
    "#tf=500\n",
    "#vf=100"
   ]
  },
  {
   "cell_type": "code",
   "execution_count": 3,
   "id": "0e48468d",
   "metadata": {},
   "outputs": [],
   "source": [
    "import numpy as np\n",
    "def eventroll_to_multihot_vector(eventroll):\n",
    "    \"\"\"\n",
    "    Parameters\n",
    "    ----------\n",
    "    eventroll : np.array\n",
    "        Eventroll matrix of shape=(11, 1000).\n",
    "    \n",
    "    Returns\n",
    "    -------\n",
    "    np.array\n",
    "        A multihot vector of shape=(10,)\n",
    "    \"\"\"\n",
    "    \n",
    "    # findout active events:\n",
    "    active_events = (eventroll.sum(axis=1) >= 0.5).astype('float')\n",
    "    \n",
    "    # remove silence class:\n",
    "    return np.delete(active_events, 8)"
   ]
  },
  {
   "cell_type": "code",
   "execution_count": 4,
   "id": "f0ce4d3a",
   "metadata": {},
   "outputs": [],
   "source": [
    "import numpy as np\n",
    "def eventroll_to_multihot_vector2(eventroll):\n",
    "    \"\"\"\n",
    "    Parameters\n",
    "    ----------\n",
    "    eventroll : np.array\n",
    "        Eventroll matrix of shape=(10, 1000).\n",
    "    \n",
    "    Returns\n",
    "    -------\n",
    "    np.array\n",
    "        A multihot vector of shape=(10,)\n",
    "    \"\"\"\n",
    "    \n",
    "    # findout active events:\n",
    "    active_events = (eventroll.sum(axis=1) >= 0.5).astype('float')\n",
    "    \n",
    "    # remove silence class:\n",
    "    return active_events"
   ]
  },
  {
   "cell_type": "code",
   "execution_count": 5,
   "id": "861d2a44",
   "metadata": {},
   "outputs": [],
   "source": [
    "train_features=[]\n",
    "for i in range(tf):   #range(len(trainf))  range(50) \n",
    "  # m=np.load(trainf[i], allow_pickle=True)\n",
    "  # n=np.load(trainfe[i], allow_pickle=True)\n",
    "  m=np.load(trainf[i])\n",
    "  n=np.load(trainfe[i])\n",
    "  n=np.delete(n, 8, 0)\n",
    "  \n",
    "  #o=eventroll_to_multihot_vector(n)\n",
    "  train_features.append([m[0].transpose(),n.transpose()])"
   ]
  },
  {
   "cell_type": "code",
   "execution_count": 6,
   "id": "669c6b18",
   "metadata": {},
   "outputs": [],
   "source": [
    "valid_features=[]\n",
    "for i in range(vf):   #range(len(validf))  range(10)\n",
    "  # m=np.load(validf[i], allow_pickle=True)\n",
    "  # n=np.load(validfe[i], allow_pickle=True)\n",
    "  m=np.load(validf[i])\n",
    "  n=np.load(validfe[i])\n",
    "  n=np.delete(n, 8, 0)\n",
    "  #o=eventroll_to_multihot_vector(n)\n",
    "  valid_features.append([m[0].transpose(),n.transpose()])"
   ]
  },
  {
   "cell_type": "code",
   "execution_count": 7,
   "id": "3ab87218",
   "metadata": {},
   "outputs": [],
   "source": [
    "train_features_df=pd.DataFrame(train_features,columns=['input','onehot'])\n",
    "valid_features_df=pd.DataFrame(valid_features,columns=['input','onehot'])\n",
    "X1=np.array(train_features_df['input'].tolist())\n",
    "y1=np.array(train_features_df['onehot'].tolist())\n",
    "X2=np.array(valid_features_df['input'].tolist())\n",
    "y2=np.array(valid_features_df['onehot'].tolist())"
   ]
  },
  {
   "cell_type": "code",
   "execution_count": 8,
   "id": "7eafd398",
   "metadata": {},
   "outputs": [],
   "source": [
    "X1=np.reshape(X1, (tf*1000, 64))\n",
    "y1=np.reshape(y1, (tf*1000, 10))\n",
    "X2=np.reshape(X2, (vf*1000, 64))\n",
    "y2=np.reshape(y2, (vf*1000, 10))\n",
    "y3=[0]*(vf*1000)\n",
    "for i in range(vf*1000):\n",
    "  for j in range(10):\n",
    "    y3[i]=y3[i] + y2[i][j]*j\n",
    "  y3[i]=int(y3[i])\n",
    "y4=[0]*(tf*1000)\n",
    "for i in range(tf*1000):\n",
    "  for j in range(10):\n",
    "    y4[i]=y4[i] + y1[i][j]*j\n",
    "  y4[i]=int(y4[i])"
   ]
  },
  {
   "cell_type": "code",
   "execution_count": 9,
   "id": "b8f53b5f",
   "metadata": {},
   "outputs": [
    {
     "name": "stdout",
     "output_type": "stream",
     "text": [
      "[0.33333333333333337, 0.34949494949494947, 0.33333333333333337, 0.25050505050505045, 0.325, 0.4615384615384615, 0.4615384615384615, 0.4615384615384615, 0.18181818181818182, 0.33333333333333337]\n",
      "Accuracy  for class  1 : 20.00\n",
      "Accuracy  for class  2 : 30.00\n",
      "Accuracy  for class  3 : 20.00\n",
      "Accuracy  for class  4 : 30.00\n",
      "Accuracy  for class  5 : 40.00\n",
      "Accuracy  for class  6 : 30.00\n",
      "Accuracy  for class  7 : 30.00\n",
      "Accuracy  for class  8 : 30.00\n",
      "Accuracy  for class  9 : 10.00\n",
      "Accuracy  for class  10 : 20.00\n",
      "Mean accuracy is :  26.00\n"
     ]
    }
   ],
   "source": [
    "# training a DescisionTreeClassifier\n",
    "from sklearn.tree import DecisionTreeClassifier\n",
    "from sklearn.metrics import multilabel_confusion_matrix\n",
    "dtree_model = DecisionTreeClassifier(max_depth = 50).fit(X1, y1)\n",
    "dtree_predictions = dtree_model.predict(X2)\n",
    "#metrics.accuracy_score(y2, dtree_predictions)\n",
    "dtree_prediction=np.reshape(dtree_predictions, (vf, 1000, 10)) \n",
    "y2=np.reshape(y2, (vf, 1000, 10))  \n",
    "#predicting which sounds are present in the given file\n",
    "onehotp2=list()\n",
    "onehotgt2=list()\n",
    "for i in range(vf):  #len(validf)=2000\n",
    "  tp=eventroll_to_multihot_vector2(dtree_prediction[i].transpose());\n",
    "  tq=eventroll_to_multihot_vector2(y2[i].transpose());\n",
    "  onehotp2.append(tp)\n",
    "  onehotgt2.append(tq)\n",
    "#f1 scores calculation for different classes\n",
    "P2=np.array(onehotp2)\n",
    "Q2=np.array(onehotgt2)\n",
    "from sklearn.metrics import f1_score\n",
    "f2=[0,0,0,0,0,0,0,0,0,0]\n",
    "for i in range(10):\n",
    "  f2[i]=f1_score(onehotp2[:][i], onehotgt2[:][i], average='weighted')\n",
    "print(f2)\n",
    "#Finding the accuracy for individual classes and mean accuracy\n",
    "from sklearn.metrics import accuracy_score\n",
    "acm2=[0, 0, 0, 0, 0, 0, 0, 0, 0, 0]\n",
    "for i in range(10):\n",
    "  accuracy = accuracy_score(Q2[:][i], P2[:][i])\n",
    "  print('Accuracy ', 'for class ', \"%d\"%(i+1),': ' \"%.2f\" % (accuracy*100))\n",
    "  acm2[i]=accuracy*100\n",
    "acc2=0\n",
    "for i in range(10):\n",
    "  acc2=acc2 + acm2[i];\n",
    "acc2=acc2/10\n",
    "print('Mean accuracy is : ', \"%0.2f\"%(acc2))"
   ]
  },
  {
   "cell_type": "code",
   "execution_count": 10,
   "id": "def6ea62",
   "metadata": {},
   "outputs": [
    {
     "name": "stdout",
     "output_type": "stream",
     "text": [
      "Mean f1 score for Decision Tree Classifier is:  34.91\n"
     ]
    }
   ],
   "source": [
    "#Mean f1 score calculation\n",
    "f2m=0;\n",
    "for i in range(10):\n",
    "    f2m=f2m+f2[i]\n",
    "f2m=f2m/10\n",
    "print('Mean f1 score for Decision Tree Classifier is: ', \"%0.2f\"%(f2m*100))"
   ]
  },
  {
   "cell_type": "code",
   "execution_count": 11,
   "id": "451b2fe3",
   "metadata": {},
   "outputs": [
    {
     "name": "stdout",
     "output_type": "stream",
     "text": [
      "[0.34949494949494947, 0.34949494949494947, 0.34949494949494947, 0.19999999999999998, 0.19999999999999998, 0.475, 0.475, 0.475, 0.19999999999999998, 0.34949494949494947]\n",
      "Accuracy  for class  1 : 30.00\n",
      "Accuracy  for class  2 : 30.00\n",
      "Accuracy  for class  3 : 30.00\n",
      "Accuracy  for class  4 : 20.00\n",
      "Accuracy  for class  5 : 20.00\n",
      "Accuracy  for class  6 : 40.00\n",
      "Accuracy  for class  7 : 40.00\n",
      "Accuracy  for class  8 : 40.00\n",
      "Accuracy  for class  9 : 20.00\n",
      "Accuracy  for class  10 : 30.00\n",
      "Mean accuracy is :  30.00\n"
     ]
    }
   ],
   "source": [
    "#Naive Bayes classifier\n",
    "from sklearn.metrics import confusion_matrix\n",
    "from sklearn.model_selection import train_test_split\n",
    "from sklearn.naive_bayes import GaussianNB\n",
    "gnb = GaussianNB().fit(X1, y4)\n",
    "gnb_predictions = gnb.predict(X2)\n",
    "accuracy = gnb.score(X2, y3)\n",
    "cm = confusion_matrix(y3, gnb_predictions)\n",
    "y5=[[0]*(10)]*(vf*1000)\n",
    "for i in range(vf*1000):\n",
    "  for j in range(10):\n",
    "    if gnb_predictions[i]==j:\n",
    "      y5[i][j]=1\n",
    "import numpy as np\n",
    "y5=np.array(y5)\n",
    "y2=np.reshape(y2, (vf, 1000, 10))\n",
    "y5=np.reshape(y5, (vf, 1000, 10))\n",
    "onehotp2=list()\n",
    "onehotgt2=list()\n",
    "for i in range(vf):  #len(validf)=2000\n",
    "  tp=eventroll_to_multihot_vector2(y5[i].transpose());\n",
    "  tq=eventroll_to_multihot_vector2(y2[i].transpose());\n",
    "  onehotp2.append(tp)\n",
    "  onehotgt2.append(tq)\n",
    "#f1 scores calculation for different classes\n",
    "P2=np.array(onehotp2)\n",
    "Q2=np.array(onehotgt2)\n",
    "from sklearn.metrics import f1_score\n",
    "f2=[0,0,0,0,0,0,0,0,0,0]\n",
    "for i in range(10):\n",
    "  f2[i]=f1_score(onehotp2[:][i], onehotgt2[:][i], average='weighted')\n",
    "print(f2)\n",
    "#Finding the accuracy for individual classes and mean accuracy\n",
    "from sklearn.metrics import accuracy_score\n",
    "acm2=[0, 0, 0, 0, 0, 0, 0, 0, 0, 0]\n",
    "for i in range(10):\n",
    "  accuracy = accuracy_score(Q2[:][i], P2[:][i])\n",
    "  print('Accuracy ', 'for class ', \"%d\"%(i+1),': ' \"%.2f\" % (accuracy*100))\n",
    "  acm2[i]=accuracy*100\n",
    "acc2=0\n",
    "for i in range(10):\n",
    "  acc2=acc2 + acm2[i];\n",
    "acc2=acc2/10\n",
    "print('Mean accuracy is : ', \"%0.2f\"%(acc2))"
   ]
  },
  {
   "cell_type": "code",
   "execution_count": 12,
   "id": "7fd0a6a4",
   "metadata": {},
   "outputs": [
    {
     "name": "stdout",
     "output_type": "stream",
     "text": [
      "Mean f1 score for Naive Bayes classifier is:  34.23\n"
     ]
    }
   ],
   "source": [
    "#Mean f1 score calculation\n",
    "f2m=0;\n",
    "for i in range(10):\n",
    "    f2m=f2m+f2[i]\n",
    "f2m=f2m/10\n",
    "print('Mean f1 score for Naive Bayes classifier is: ', \"%0.2f\"%(f2m*100))"
   ]
  },
  {
   "cell_type": "code",
   "execution_count": 13,
   "id": "57b7405d",
   "metadata": {},
   "outputs": [
    {
     "name": "stdout",
     "output_type": "stream",
     "text": [
      "Accuracy: 76.46\n",
      "[0.33333333333333337, 0.33333333333333337, 0.33333333333333337, 0.18181818181818182, 0.18181818181818182, 0.4615384615384615, 0.4615384615384615, 0.4615384615384615, 0.18181818181818182, 0.33333333333333337]\n",
      "Accuracy  for class  1 : 20.00\n",
      "Accuracy  for class  2 : 20.00\n",
      "Accuracy  for class  3 : 20.00\n",
      "Accuracy  for class  4 : 10.00\n",
      "Accuracy  for class  5 : 10.00\n",
      "Accuracy  for class  6 : 30.00\n",
      "Accuracy  for class  7 : 30.00\n",
      "Accuracy  for class  8 : 30.00\n",
      "Accuracy  for class  9 : 10.00\n",
      "Accuracy  for class  10 : 20.00\n",
      "Mean accuracy is :  20.00\n"
     ]
    }
   ],
   "source": [
    "#KNN model\n",
    "from sklearn.metrics import multilabel_confusion_matrix\n",
    "from sklearn.neighbors import KNeighborsClassifier\n",
    "knn = KNeighborsClassifier(n_neighbors = 11).fit(X1, y4)\n",
    "accuracy = knn.score(X2, y3)\n",
    "print('Accuracy:', \"%.2f\"%(accuracy*100))\n",
    "knn_pred=knn.predict(X2)\n",
    "y5=[[0]*(10)]*(vf*1000)\n",
    "for i in range(vf*1000):\n",
    "  for j in range(10):\n",
    "    if knn_pred[i]==j:\n",
    "      y5[i][j]=1\n",
    "import numpy as np\n",
    "y5=np.array(y5)\n",
    "y2=np.reshape(y2, (vf, 1000, 10))\n",
    "y5=np.reshape(y5, (vf, 1000, 10))\n",
    "onehotp2=list()\n",
    "onehotgt2=list()\n",
    "for i in range(vf):  #len(validf)=2000\n",
    "  tp=eventroll_to_multihot_vector2(y5[i].transpose());\n",
    "  tq=eventroll_to_multihot_vector2(y2[i].transpose());\n",
    "  onehotp2.append(tp)\n",
    "  onehotgt2.append(tq)\n",
    "#f1 scores calculation for different classes\n",
    "P2=np.array(onehotp2)\n",
    "Q2=np.array(onehotgt2)\n",
    "from sklearn.metrics import f1_score\n",
    "f2=[0,0,0,0,0,0,0,0,0,0]\n",
    "for i in range(10):\n",
    "  f2[i]=f1_score(onehotp2[:][i], onehotgt2[:][i], average='weighted')\n",
    "print(f2)\n",
    "#Finding the accuracy for individual classes and mean accuracy\n",
    "from sklearn.metrics import accuracy_score\n",
    "acm2=[0, 0, 0, 0, 0, 0, 0, 0, 0, 0]\n",
    "for i in range(10):\n",
    "  accuracy = accuracy_score(Q2[:][i], P2[:][i])\n",
    "  print('Accuracy ', 'for class ', \"%d\"%(i+1),': ' \"%.2f\" % (accuracy*100))\n",
    "  acm2[i]=accuracy*100\n",
    "acc2=0\n",
    "for i in range(10):\n",
    "  acc2=acc2 + acm2[i];\n",
    "acc2=acc2/10\n",
    "print('Mean accuracy is : ', \"%0.2f\"%(acc2))"
   ]
  },
  {
   "cell_type": "code",
   "execution_count": 14,
   "id": "400ee94f",
   "metadata": {},
   "outputs": [
    {
     "name": "stdout",
     "output_type": "stream",
     "text": [
      "Mean f1 score for KNN is:  32.63\n"
     ]
    }
   ],
   "source": [
    "#Mean f1 score calculation\n",
    "f2m=0;\n",
    "for i in range(10):\n",
    "    f2m=f2m+f2[i]\n",
    "f2m=f2m/10\n",
    "print('Mean f1 score for KNN is: ', \"%0.2f\"%(f2m*100))"
   ]
  }
 ],
 "metadata": {
  "kernelspec": {
   "display_name": "Python 3",
   "language": "python",
   "name": "python3"
  },
  "language_info": {
   "codemirror_mode": {
    "name": "ipython",
    "version": 3
   },
   "file_extension": ".py",
   "mimetype": "text/x-python",
   "name": "python",
   "nbconvert_exporter": "python",
   "pygments_lexer": "ipython3",
   "version": "3.8.8"
  }
 },
 "nbformat": 4,
 "nbformat_minor": 5
}
